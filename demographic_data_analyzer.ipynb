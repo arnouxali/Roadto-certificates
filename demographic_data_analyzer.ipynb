{
 "cells": [
  {
   "cell_type": "code",
   "execution_count": 718,
   "id": "initial_id",
   "metadata": {
    "collapsed": true,
    "ExecuteTime": {
     "end_time": "2025-05-14T10:50:37.678241900Z",
     "start_time": "2025-05-14T10:50:37.512618400Z"
    }
   },
   "outputs": [
    {
     "name": "stderr",
     "output_type": "stream",
     "text": [
      "C:\\Users\\aliak\\AppData\\Local\\Temp\\ipykernel_24392\\1254785647.py:8: FutureWarning: DataFrame.applymap has been deprecated. Use DataFrame.map instead.\n",
      "  datafile=datafile.applymap(lambda x:x.strip() if isinstance(x,str) else x )\n"
     ]
    },
    {
     "data": {
      "text/plain": "       Age         workclass  fnlwgt AcademicDegree  education-num  \\\n0       39         State-gov   77516      Bachelors             13   \n1       50  Self-emp-not-inc   83311      Bachelors             13   \n2       38           Private  215646        HS-grad              9   \n3       53           Private  234721           11th              7   \n4       28           Private  338409      Bachelors             13   \n...    ...               ...     ...            ...            ...   \n32556   27           Private  257302     Assoc-acdm             12   \n32557   40           Private  154374        HS-grad              9   \n32558   58           Private  151910        HS-grad              9   \n32559   22           Private  201490        HS-grad              9   \n32560   52      Self-emp-inc  287927        HS-grad              9   \n\n           marital-status         occupation   relationship   race  gender  \\\n0           Never-married       Adm-clerical  Not-in-family  White    Male   \n1      Married-civ-spouse    Exec-managerial        Husband  White    Male   \n2                Divorced  Handlers-cleaners  Not-in-family  White    Male   \n3      Married-civ-spouse  Handlers-cleaners        Husband  Black    Male   \n4      Married-civ-spouse     Prof-specialty           Wife  Black  Female   \n...                   ...                ...            ...    ...     ...   \n32556  Married-civ-spouse       Tech-support           Wife  White  Female   \n32557  Married-civ-spouse  Machine-op-inspct        Husband  White    Male   \n32558             Widowed       Adm-clerical      Unmarried  White  Female   \n32559       Never-married       Adm-clerical      Own-child  White    Male   \n32560  Married-civ-spouse    Exec-managerial           Wife  White  Female   \n\n       capital-gain  capital-loss  HoursPerWeek        country Salary  \n0              2174             0            40  United-States  <=50K  \n1                 0             0            13  United-States  <=50K  \n2                 0             0            40  United-States  <=50K  \n3                 0             0            40  United-States  <=50K  \n4                 0             0            40           Cuba  <=50K  \n...             ...           ...           ...            ...    ...  \n32556             0             0            38  United-States  <=50K  \n32557             0             0            40  United-States   >50K  \n32558             0             0            40  United-States  <=50K  \n32559             0             0            20  United-States  <=50K  \n32560         15024             0            40  United-States   >50K  \n\n[32561 rows x 15 columns]",
      "text/html": "<div>\n<style scoped>\n    .dataframe tbody tr th:only-of-type {\n        vertical-align: middle;\n    }\n\n    .dataframe tbody tr th {\n        vertical-align: top;\n    }\n\n    .dataframe thead th {\n        text-align: right;\n    }\n</style>\n<table border=\"1\" class=\"dataframe\">\n  <thead>\n    <tr style=\"text-align: right;\">\n      <th></th>\n      <th>Age</th>\n      <th>workclass</th>\n      <th>fnlwgt</th>\n      <th>AcademicDegree</th>\n      <th>education-num</th>\n      <th>marital-status</th>\n      <th>occupation</th>\n      <th>relationship</th>\n      <th>race</th>\n      <th>gender</th>\n      <th>capital-gain</th>\n      <th>capital-loss</th>\n      <th>HoursPerWeek</th>\n      <th>country</th>\n      <th>Salary</th>\n    </tr>\n  </thead>\n  <tbody>\n    <tr>\n      <th>0</th>\n      <td>39</td>\n      <td>State-gov</td>\n      <td>77516</td>\n      <td>Bachelors</td>\n      <td>13</td>\n      <td>Never-married</td>\n      <td>Adm-clerical</td>\n      <td>Not-in-family</td>\n      <td>White</td>\n      <td>Male</td>\n      <td>2174</td>\n      <td>0</td>\n      <td>40</td>\n      <td>United-States</td>\n      <td>&lt;=50K</td>\n    </tr>\n    <tr>\n      <th>1</th>\n      <td>50</td>\n      <td>Self-emp-not-inc</td>\n      <td>83311</td>\n      <td>Bachelors</td>\n      <td>13</td>\n      <td>Married-civ-spouse</td>\n      <td>Exec-managerial</td>\n      <td>Husband</td>\n      <td>White</td>\n      <td>Male</td>\n      <td>0</td>\n      <td>0</td>\n      <td>13</td>\n      <td>United-States</td>\n      <td>&lt;=50K</td>\n    </tr>\n    <tr>\n      <th>2</th>\n      <td>38</td>\n      <td>Private</td>\n      <td>215646</td>\n      <td>HS-grad</td>\n      <td>9</td>\n      <td>Divorced</td>\n      <td>Handlers-cleaners</td>\n      <td>Not-in-family</td>\n      <td>White</td>\n      <td>Male</td>\n      <td>0</td>\n      <td>0</td>\n      <td>40</td>\n      <td>United-States</td>\n      <td>&lt;=50K</td>\n    </tr>\n    <tr>\n      <th>3</th>\n      <td>53</td>\n      <td>Private</td>\n      <td>234721</td>\n      <td>11th</td>\n      <td>7</td>\n      <td>Married-civ-spouse</td>\n      <td>Handlers-cleaners</td>\n      <td>Husband</td>\n      <td>Black</td>\n      <td>Male</td>\n      <td>0</td>\n      <td>0</td>\n      <td>40</td>\n      <td>United-States</td>\n      <td>&lt;=50K</td>\n    </tr>\n    <tr>\n      <th>4</th>\n      <td>28</td>\n      <td>Private</td>\n      <td>338409</td>\n      <td>Bachelors</td>\n      <td>13</td>\n      <td>Married-civ-spouse</td>\n      <td>Prof-specialty</td>\n      <td>Wife</td>\n      <td>Black</td>\n      <td>Female</td>\n      <td>0</td>\n      <td>0</td>\n      <td>40</td>\n      <td>Cuba</td>\n      <td>&lt;=50K</td>\n    </tr>\n    <tr>\n      <th>...</th>\n      <td>...</td>\n      <td>...</td>\n      <td>...</td>\n      <td>...</td>\n      <td>...</td>\n      <td>...</td>\n      <td>...</td>\n      <td>...</td>\n      <td>...</td>\n      <td>...</td>\n      <td>...</td>\n      <td>...</td>\n      <td>...</td>\n      <td>...</td>\n      <td>...</td>\n    </tr>\n    <tr>\n      <th>32556</th>\n      <td>27</td>\n      <td>Private</td>\n      <td>257302</td>\n      <td>Assoc-acdm</td>\n      <td>12</td>\n      <td>Married-civ-spouse</td>\n      <td>Tech-support</td>\n      <td>Wife</td>\n      <td>White</td>\n      <td>Female</td>\n      <td>0</td>\n      <td>0</td>\n      <td>38</td>\n      <td>United-States</td>\n      <td>&lt;=50K</td>\n    </tr>\n    <tr>\n      <th>32557</th>\n      <td>40</td>\n      <td>Private</td>\n      <td>154374</td>\n      <td>HS-grad</td>\n      <td>9</td>\n      <td>Married-civ-spouse</td>\n      <td>Machine-op-inspct</td>\n      <td>Husband</td>\n      <td>White</td>\n      <td>Male</td>\n      <td>0</td>\n      <td>0</td>\n      <td>40</td>\n      <td>United-States</td>\n      <td>&gt;50K</td>\n    </tr>\n    <tr>\n      <th>32558</th>\n      <td>58</td>\n      <td>Private</td>\n      <td>151910</td>\n      <td>HS-grad</td>\n      <td>9</td>\n      <td>Widowed</td>\n      <td>Adm-clerical</td>\n      <td>Unmarried</td>\n      <td>White</td>\n      <td>Female</td>\n      <td>0</td>\n      <td>0</td>\n      <td>40</td>\n      <td>United-States</td>\n      <td>&lt;=50K</td>\n    </tr>\n    <tr>\n      <th>32559</th>\n      <td>22</td>\n      <td>Private</td>\n      <td>201490</td>\n      <td>HS-grad</td>\n      <td>9</td>\n      <td>Never-married</td>\n      <td>Adm-clerical</td>\n      <td>Own-child</td>\n      <td>White</td>\n      <td>Male</td>\n      <td>0</td>\n      <td>0</td>\n      <td>20</td>\n      <td>United-States</td>\n      <td>&lt;=50K</td>\n    </tr>\n    <tr>\n      <th>32560</th>\n      <td>52</td>\n      <td>Self-emp-inc</td>\n      <td>287927</td>\n      <td>HS-grad</td>\n      <td>9</td>\n      <td>Married-civ-spouse</td>\n      <td>Exec-managerial</td>\n      <td>Wife</td>\n      <td>White</td>\n      <td>Female</td>\n      <td>15024</td>\n      <td>0</td>\n      <td>40</td>\n      <td>United-States</td>\n      <td>&gt;50K</td>\n    </tr>\n  </tbody>\n</table>\n<p>32561 rows × 15 columns</p>\n</div>"
     },
     "execution_count": 718,
     "metadata": {},
     "output_type": "execute_result"
    }
   ],
   "source": [
    "import pandas as pd\n",
    "\n",
    "datafile=pd.read_csv('adult.data',header=None)\n",
    "datafile.columns=['Age', 'workclass', 'fnlwgt', 'AcademicDegree', 'education-num',\n",
    "    'marital-status', 'occupation', 'relationship', 'race', 'gender',\n",
    "    'capital-gain', 'capital-loss', 'HoursPerWeek', 'country', 'Salary']\n",
    "\n",
    "datafile=datafile.applymap(lambda x:x.strip() if isinstance(x,str) else x )\n",
    "datafile"
   ]
  },
  {
   "cell_type": "markdown",
   "source": [
    "### How many people of each race are represented in this dataset?"
   ],
   "metadata": {
    "collapsed": false
   },
   "id": "73b85f420881b26d"
  },
  {
   "cell_type": "code",
   "execution_count": 719,
   "outputs": [
    {
     "data": {
      "text/plain": "race\nWhite                 27816\nBlack                  3124\nAsian-Pac-Islander     1039\nAmer-Indian-Eskimo      311\nOther                   271\nName: count, dtype: int64"
     },
     "execution_count": 719,
     "metadata": {},
     "output_type": "execute_result"
    }
   ],
   "source": [
    "datafile['race'].value_counts()"
   ],
   "metadata": {
    "collapsed": false,
    "ExecuteTime": {
     "end_time": "2025-05-14T10:50:37.706790600Z",
     "start_time": "2025-05-14T10:50:37.678241900Z"
    }
   },
   "id": "886029ff4e9d0089"
  },
  {
   "cell_type": "markdown",
   "source": [
    "### What is the average age of men?"
   ],
   "metadata": {
    "collapsed": false
   },
   "id": "2bdde1aa2a60ffa5"
  },
  {
   "cell_type": "code",
   "execution_count": 720,
   "outputs": [
    {
     "data": {
      "text/plain": "np.float64(38.58164675532078)"
     },
     "execution_count": 720,
     "metadata": {},
     "output_type": "execute_result"
    }
   ],
   "source": [
    "datafile['Age'].mean()"
   ],
   "metadata": {
    "collapsed": false,
    "ExecuteTime": {
     "end_time": "2025-05-14T10:50:37.706790600Z",
     "start_time": "2025-05-14T10:50:37.686641500Z"
    }
   },
   "id": "63c7713e2550163"
  },
  {
   "cell_type": "markdown",
   "source": [
    "### What is the percentage of people who have a Bachelor's degree?\n"
   ],
   "metadata": {
    "collapsed": false
   },
   "id": "1def76492dff1cd5"
  },
  {
   "cell_type": "code",
   "execution_count": 721,
   "outputs": [
    {
     "name": "stdout",
     "output_type": "stream",
     "text": [
      "16.44605509658794% of the Acedemic Degrees are Bachelors\n"
     ]
    }
   ],
   "source": [
    "\n",
    "Bachelors_count=datafile[datafile['AcademicDegree']=='Bachelors'].shape[0]\n",
    "Academics_count=datafile[\"AcademicDegree\"].count()\n",
    "Bachelors_perc=(Bachelors_count/Academics_count)*100\n",
    "\n",
    "print(f\"{Bachelors_perc}% of the Acedemic Degrees are Bachelors\")"
   ],
   "metadata": {
    "collapsed": false,
    "ExecuteTime": {
     "end_time": "2025-05-14T10:50:37.706790600Z",
     "start_time": "2025-05-14T10:50:37.692676500Z"
    }
   },
   "id": "817a4a3d658e7a2f"
  },
  {
   "cell_type": "markdown",
   "source": [
    "### What percentage of people with advanced education (Bachelors, Masters, or Doctorate) make more than 50K?\n"
   ],
   "metadata": {
    "collapsed": false
   },
   "id": "527224b40942b8e9"
  },
  {
   "cell_type": "code",
   "execution_count": 722,
   "outputs": [
    {
     "name": "stdout",
     "output_type": "stream",
     "text": [
      "46.535843011613935% of people with advanced education (Bachelors, Masters, or Doctorate) make more than 50K\n"
     ]
    }
   ],
   "source": [
    "a_educationOver50=datafile[(datafile['AcademicDegree'].isin([\"Bachelors\", \"Masters\", \"Doctorate\"]))&(datafile['Salary']=='>50K')]\n",
    "a_education=datafile[(datafile['AcademicDegree'].isin([\"Bachelors\", \"Masters\", \"Doctorate\"]))]\n",
    "a_education_count=a_education.shape[0]\n",
    "a_educationOver50_count=a_educationOver50.shape[0]\n",
    "a_educationOver50_Perc=(a_educationOver50_count/a_education_count)*100\n",
    "print(f'{a_educationOver50_Perc}% of people with advanced education (Bachelors, Masters, or Doctorate) make more than 50K')"
   ],
   "metadata": {
    "collapsed": false,
    "ExecuteTime": {
     "end_time": "2025-05-14T10:50:37.815327400Z",
     "start_time": "2025-05-14T10:50:37.703035900Z"
    }
   },
   "id": "641602a9caf1ab65"
  },
  {
   "cell_type": "markdown",
   "source": [
    "### What percentage of people without advanced education make more than 50K?"
   ],
   "metadata": {
    "collapsed": false
   },
   "id": "718f00efd30a65d4"
  },
  {
   "cell_type": "code",
   "execution_count": 723,
   "outputs": [
    {
     "name": "stdout",
     "output_type": "stream",
     "text": [
      "17.3713601914639% of people without advanced education make more than 50K\n"
     ]
    }
   ],
   "source": [
    "no_educationOver50=datafile[(~datafile['AcademicDegree'].isin([\"Bachelors\", \"Masters\", \"Doctorate\"]))&(datafile['Salary']=='>50K')]\n",
    "no_education=datafile[(~datafile['AcademicDegree'].isin([\"Bachelors\", \"Masters\", \"Doctorate\"]))]\n",
    "no_education_count=no_education.shape[0]\n",
    "no_educationOver50_count=no_educationOver50.shape[0]\n",
    "no_educationOver50_Perc=(no_educationOver50_count/no_education_count)*100\n",
    "print(f'{no_educationOver50_Perc}% of people without advanced education make more than 50K')"
   ],
   "metadata": {
    "collapsed": false,
    "ExecuteTime": {
     "end_time": "2025-05-14T10:50:37.816543500Z",
     "start_time": "2025-05-14T10:50:37.720867Z"
    }
   },
   "id": "dde7ca57e74977d3"
  },
  {
   "cell_type": "markdown",
   "source": [
    "### What is the minimum number of hours a person works per week?"
   ],
   "metadata": {
    "collapsed": false
   },
   "id": "4c097b413cf5455e"
  },
  {
   "cell_type": "code",
   "execution_count": 724,
   "outputs": [],
   "source": [
    "minhourperweek=datafile['HoursPerWeek'].min()"
   ],
   "metadata": {
    "collapsed": false,
    "ExecuteTime": {
     "end_time": "2025-05-14T10:50:37.816543500Z",
     "start_time": "2025-05-14T10:50:37.738203900Z"
    }
   },
   "id": "220c69462bfbccaa"
  },
  {
   "cell_type": "markdown",
   "source": [
    "### What percentage of the people who work the minimum number of hours per week have a salary of more than 50K?"
   ],
   "metadata": {
    "collapsed": false
   },
   "id": "5d5f86d3f10b6ceb"
  },
  {
   "cell_type": "code",
   "execution_count": 725,
   "outputs": [
    {
     "name": "stdout",
     "output_type": "stream",
     "text": [
      "10.0% of the people who work the minimum number of hours per week have a salary of more than 50K\n"
     ]
    }
   ],
   "source": [
    "minwork_highMoney= datafile[(datafile['HoursPerWeek'] == minhourperweek) & (datafile['Salary'] == '>50K')].shape[0]\n",
    "minwork=datafile[(datafile['HoursPerWeek']==minhourperweek)].shape[0]\n",
    "minwork_highMoney_perc=(minwork_highMoney/minwork)*100\n",
    "print(f'{minwork_highMoney_perc}% of the people who work the minimum number of hours per week have a salary of more than 50K')"
   ],
   "metadata": {
    "collapsed": false,
    "ExecuteTime": {
     "end_time": "2025-05-14T10:50:37.816543500Z",
     "start_time": "2025-05-14T10:50:37.744929600Z"
    }
   },
   "id": "87f7d3a3e406ba33"
  },
  {
   "cell_type": "markdown",
   "source": [
    "### What country has the highest percentage of people that earn >50K and what is that percentage?"
   ],
   "metadata": {
    "collapsed": false
   },
   "id": "8d4ecfde8f99207"
  },
  {
   "cell_type": "code",
   "execution_count": 726,
   "outputs": [
    {
     "name": "stdout",
     "output_type": "stream",
     "text": [
      "The country with the highest percentage of people that earn >50K is Iran with 41.86046511627907%\n"
     ]
    }
   ],
   "source": [
    "dvalidcountries=datafile[datafile['country']!='?']\n",
    "dvc_count=dvalidcountries['country'].value_counts()\n",
    "highpaids=dvalidcountries[dvalidcountries['Salary']=='>50K']\n",
    "highpaids_count=highpaids.groupby('country').size().sort_values(ascending=False)\n",
    "highpaids_percantage=((highpaids_count/dvc_count)*100).sort_values(ascending=False)\n",
    "top_country = highpaids_percantage.idxmax()\n",
    "top_country_perc=highpaids_percantage.max()\n",
    "print(f\"The country with the highest percentage of people that earn >50K is {top_country} with {top_country_perc}%\")\n"
   ],
   "metadata": {
    "collapsed": false,
    "ExecuteTime": {
     "end_time": "2025-05-14T10:50:37.816543500Z",
     "start_time": "2025-05-14T10:50:37.750100100Z"
    }
   },
   "id": "19a0ac65640d42a8"
  },
  {
   "cell_type": "markdown",
   "source": [
    "### Identify the most popular occupation for those who earn >50K in India"
   ],
   "metadata": {
    "collapsed": false
   },
   "id": "76237324b05b606b"
  },
  {
   "cell_type": "code",
   "execution_count": 727,
   "outputs": [
    {
     "name": "stdout",
     "output_type": "stream",
     "text": [
      "the most popular occupation for those who earn >50K in India is Prof-specialty\n"
     ]
    }
   ],
   "source": [
    "popular_occupations=datafile[(datafile['country']=='India') & (datafile['Salary']=='>50K')].groupby([ 'occupation']).size().sort_values(ascending=False)\n",
    "popular_occupation=popular_occupations.idxmax()\n",
    "print(f'the most popular occupation for those who earn >50K in India is {popular_occupation}')"
   ],
   "metadata": {
    "collapsed": false,
    "ExecuteTime": {
     "end_time": "2025-05-14T10:50:37.816543500Z",
     "start_time": "2025-05-14T10:50:37.774112100Z"
    }
   },
   "id": "9192dbc00f816c35"
  }
 ],
 "metadata": {
  "kernelspec": {
   "display_name": "Python 3",
   "language": "python",
   "name": "python3"
  },
  "language_info": {
   "codemirror_mode": {
    "name": "ipython",
    "version": 2
   },
   "file_extension": ".py",
   "mimetype": "text/x-python",
   "name": "python",
   "nbconvert_exporter": "python",
   "pygments_lexer": "ipython2",
   "version": "2.7.6"
  }
 },
 "nbformat": 4,
 "nbformat_minor": 5
}
